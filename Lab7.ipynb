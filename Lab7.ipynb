{
 "cells": [
  {
   "cell_type": "code",
   "execution_count": 5,
   "metadata": {},
   "outputs": [],
   "source": [
    "import numpy as np\n",
    "import seaborn as sns\n",
    "import pandas as pd\n",
    "import matplotlib.pyplot as plt\n",
    "import scipy.stats as ss\n",
    "%matplotlib inline"
   ]
  },
  {
   "cell_type": "code",
   "execution_count": 2,
   "metadata": {},
   "outputs": [],
   "source": [
    "# Distributions and Hypothesis Testing"
   ]
  },
  {
   "cell_type": "code",
   "execution_count": 6,
   "metadata": {},
   "outputs": [],
   "source": [
    "mean = 3.5\n",
    "sd = 0.76"
   ]
  },
  {
   "cell_type": "code",
   "execution_count": 7,
   "metadata": {},
   "outputs": [],
   "source": [
    "nd = ss.norm(mean,sd)"
   ]
  },
  {
   "cell_type": "code",
   "execution_count": 8,
   "metadata": {},
   "outputs": [
    {
     "data": {
      "text/plain": [
       "<scipy.stats._distn_infrastructure.rv_frozen at 0x2c7652475f8>"
      ]
     },
     "execution_count": 8,
     "metadata": {},
     "output_type": "execute_result"
    }
   ],
   "source": [
    "nd"
   ]
  },
  {
   "cell_type": "code",
   "execution_count": 10,
   "metadata": {},
   "outputs": [],
   "source": [
    "X = 2.6"
   ]
  },
  {
   "cell_type": "code",
   "execution_count": 12,
   "metadata": {},
   "outputs": [
    {
     "data": {
      "text/plain": [
       "0.11816486815719918"
      ]
     },
     "execution_count": 12,
     "metadata": {},
     "output_type": "execute_result"
    }
   ],
   "source": [
    "nd.cdf(X)"
   ]
  },
  {
   "cell_type": "code",
   "execution_count": 13,
   "metadata": {},
   "outputs": [
    {
     "data": {
      "text/plain": [
       "0.23632973631439835"
      ]
     },
     "execution_count": 13,
     "metadata": {},
     "output_type": "execute_result"
    }
   ],
   "source": [
    "2*nd.cdf(X)"
   ]
  },
  {
   "cell_type": "code",
   "execution_count": 15,
   "metadata": {},
   "outputs": [
    {
     "data": {
      "text/plain": [
       "7.9014917775632523e-05"
      ]
     },
     "execution_count": 15,
     "metadata": {},
     "output_type": "execute_result"
    }
   ],
   "source": [
    "2*nd.cdf(.5)"
   ]
  },
  {
   "cell_type": "code",
   "execution_count": 16,
   "metadata": {},
   "outputs": [],
   "source": [
    "def two_tails_plot(nd,X,mean,sd):\n",
    "\n",
    "    \n",
    "\n",
    "    x = np.linspace(mean-4*sd, mean+4*sd, 5000)\n",
    "\n",
    "    y_cdf = ss.norm.pdf(x,3.5, 0.76)\n",
    "\n",
    "    plt.plot(x, y_cdf, label='cdf')\n",
    "\n",
    "    if X < mean:\n",
    "\n",
    "        lo = mean-4*sd\n",
    "\n",
    "        hi = X\n",
    "\n",
    "        lo2 = (mean-X)+mean\n",
    "\n",
    "        hi2 = mean+4*sd\n",
    "\n",
    "    else:\n",
    "\n",
    "        lo = mean-4*sd\n",
    "\n",
    "        hi = (mean-X)+mean\n",
    "\n",
    "        lo2 = X\n",
    "\n",
    "        hi2 = mean+4*sd\n",
    "\n",
    "    x = np.linspace(lo, hi, 5000)\n",
    "\n",
    "    x2 = np.linspace(lo2, hi2, 5000)\n",
    "\n",
    "    plt.fill_between(x, nd.pdf(x), y2=0, where= x >= lo , \\\n",
    "\n",
    "                     interpolate=False, \\\n",
    "\n",
    "                     color='blue', alpha = 0.2)\n",
    "\n",
    "    plt.fill_between(x2, nd.pdf(x2), y2=0, where= x2 >= lo2 , \\\n",
    "\n",
    "                     interpolate=False, \\\n",
    "\n",
    "                     color='blue', alpha = 0.2)\n",
    "\n"
   ]
  },
  {
   "cell_type": "code",
   "execution_count": 20,
   "metadata": {},
   "outputs": [
    {
     "data": {
      "image/png": "[encoded data removed]",
      "text/plain": [
       "<matplotlib.figure.Figure at 0x2c768daceb8>"
      ]
     },
     "metadata": {},
     "output_type": "display_data"
    }
   ],
   "source": [
    "two_tails_plot(nd,X,mean,sd)\n",
    "\n",
    "\n"
   ]
  },
  {
   "cell_type": "code",
   "execution_count": 22,
   "metadata": {},
   "outputs": [],
   "source": [
    "# One sided Test"
   ]
  },
  {
   "cell_type": "code",
   "execution_count": 26,
   "metadata": {},
   "outputs": [],
   "source": [
    "mean = 1.03\n",
    "sd = 0.1\n",
    "nd = ss.norm(mean,sd)\n",
    "X = 1.\n",
    "n = 50"
   ]
  },
  {
   "cell_type": "code",
   "execution_count": 27,
   "metadata": {},
   "outputs": [
    {
     "name": "stdout",
     "output_type": "stream",
     "text": [
      "-2.12132034356\n"
     ]
    }
   ],
   "source": [
    "z = (X-mean)/(sd/np.sqrt(n))\n",
    "print(z)"
   ]
  },
  {
   "cell_type": "code",
   "execution_count": 28,
   "metadata": {},
   "outputs": [
    {
     "data": {
      "text/plain": [
       "0.01694742676234454"
      ]
     },
     "execution_count": 28,
     "metadata": {},
     "output_type": "execute_result"
    }
   ],
   "source": [
    "ss.norm.cdf(z)"
   ]
  },
  {
   "cell_type": "code",
   "execution_count": 33,
   "metadata": {},
   "outputs": [],
   "source": [
    "#Student t Test\n",
    "#measuring thickness of a steel plate"
   ]
  },
  {
   "cell_type": "code",
   "execution_count": 31,
   "metadata": {},
   "outputs": [],
   "source": [
    "X = np.array([1.316,1.308,1.321,1.303,1.311,1.310])"
   ]
  },
  {
   "cell_type": "code",
   "execution_count": 34,
   "metadata": {},
   "outputs": [
    {
     "data": {
      "text/plain": [
       "{'boxes': [<matplotlib.lines.Line2D at 0x2c768baccf8>],\n",
       " 'caps': [<matplotlib.lines.Line2D at 0x2c768865978>,\n",
       "  <matplotlib.lines.Line2D at 0x2c768865470>],\n",
       " 'fliers': [<matplotlib.lines.Line2D at 0x2c768abecc0>],\n",
       " 'means': [],\n",
       " 'medians': [<matplotlib.lines.Line2D at 0x2c768abe080>],\n",
       " 'whiskers': [<matplotlib.lines.Line2D at 0x2c768bac898>,\n",
       "  <matplotlib.lines.Line2D at 0x2c7688654e0>]}"
      ]
     },
     "execution_count": 34,
     "metadata": {},
     "output_type": "execute_result"
    },
    {
     "data": {
      "image/png": "[encoded data removed]",
      "text/plain": [
       "<matplotlib.figure.Figure at 0x2c768bacf28>"
      ]
     },
     "metadata": {},
     "output_type": "display_data"
    }
   ],
   "source": [
    "plt.boxplot(X)"
   ]
  },
  {
   "cell_type": "code",
   "execution_count": 35,
   "metadata": {},
   "outputs": [
    {
     "name": "stdout",
     "output_type": "stream",
     "text": [
      "1.3115 0.00573730482602\n"
     ]
    }
   ],
   "source": [
    "mean = np.mean(X)\n",
    "sd = np.std(X)\n",
    "print(mean,sd)"
   ]
  },
  {
   "cell_type": "code",
   "execution_count": 40,
   "metadata": {},
   "outputs": [],
   "source": [
    "dF = len(X)-1\n",
    "alpha = 0.99"
   ]
  },
  {
   "cell_type": "code",
   "execution_count": 42,
   "metadata": {},
   "outputs": [
    {
     "data": {
      "text/plain": [
       "(1.3011543246307602, 1.3218456753692396)"
      ]
     },
     "execution_count": 42,
     "metadata": {},
     "output_type": "execute_result"
    }
   ],
   "source": [
    "ss.t.interval(alpha,dF,mean,ss.sem(X))"
   ]
  },
  {
   "cell_type": "code",
   "execution_count": 45,
   "metadata": {},
   "outputs": [],
   "source": [
    "X = np.array([1.316,1.308,1.321,1.303,1.311,1.310,3.5])"
   ]
  },
  {
   "cell_type": "code",
   "execution_count": 46,
   "metadata": {},
   "outputs": [
    {
     "data": {
      "text/plain": [
       "{'boxes': [<matplotlib.lines.Line2D at 0x2c7694bd438>],\n",
       " 'caps': [<matplotlib.lines.Line2D at 0x2c7694bdf28>,\n",
       "  <matplotlib.lines.Line2D at 0x2c7694c53c8>],\n",
       " 'fliers': [<matplotlib.lines.Line2D at 0x2c7694c5c88>],\n",
       " 'means': [],\n",
       " 'medians': [<matplotlib.lines.Line2D at 0x2c7694c5828>],\n",
       " 'whiskers': [<matplotlib.lines.Line2D at 0x2c7694bd588>,\n",
       "  <matplotlib.lines.Line2D at 0x2c7694bdac8>]}"
      ]
     },
     "execution_count": 46,
     "metadata": {},
     "output_type": "execute_result"
    },
    {
     "data": {
      "image/png": "[encoded data removed]",
      "text/plain": [
       "<matplotlib.figure.Figure at 0x2c768ba2390>"
      ]
     },
     "metadata": {},
     "output_type": "display_data"
    }
   ],
   "source": [
    "plt.boxplot(X)"
   ]
  },
  {
   "cell_type": "code",
   "execution_count": 60,
   "metadata": {},
   "outputs": [
    {
     "data": {
      "text/plain": [
       "(50.0, 51.0)"
      ]
     },
     "execution_count": 60,
     "metadata": {},
     "output_type": "execute_result"
    }
   ],
   "source": [
    "ss.binom.interval(.05,85,.5955,loc=0)"
   ]
  },
  {
   "cell_type": "code",
   "execution_count": 64,
   "metadata": {},
   "outputs": [],
   "source": [
    "def binom_CI(n,X,alpha):\n",
    "    n_hat = n+4\n",
    "    p_hat = (X+2) / n_hat\n",
    "    \n",
    "    z = ss.norm.ppf(1-alpha/2)\n",
    "    \n",
    "    ci = z*np.sqrt(p_hat*(1-p_hat)/n_hat)\n",
    "    \n",
    "    return np.array([p_hat-ci, p_hat+ci])"
   ]
  },
  {
   "cell_type": "code",
   "execution_count": 65,
   "metadata": {},
   "outputs": [
    {
     "data": {
      "text/plain": [
       "array([ 0.50993367,  0.68107757])"
      ]
     },
     "execution_count": 65,
     "metadata": {},
     "output_type": "execute_result"
    }
   ],
   "source": [
    "binom_CI(85,51,.1)"
   ]
  },
  {
   "cell_type": "markdown",
   "metadata": {},
   "source": []
  }
 ],
 "metadata": {
  "kernelspec": {
   "display_name": "Python 3",
   "language": "python",
   "name": "python3"
  },
  "language_info": {
   "codemirror_mode": {
    "name": "ipython",
    "version": 3
   },
   "file_extension": ".py",
   "mimetype": "text/x-python",
   "name": "python",
   "nbconvert_exporter": "python",
   "pygments_lexer": "ipython3",
   "version": "3.6.3"
  }
 },
 "nbformat": 4,
 "nbformat_minor": 2
}
