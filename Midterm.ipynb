{
 "cells": [
  {
   "cell_type": "code",
   "execution_count": 1,
   "metadata": {},
   "outputs": [],
   "source": [
    "import numpy as np\n",
    "import pandas as pd\n",
    "import seaborn as sn\n",
    "import scipy.stats as ss\n",
    "import matplotlib.pyplot as plt"
   ]
  },
  {
   "cell_type": "code",
   "execution_count": 6,
   "metadata": {},
   "outputs": [],
   "source": [
    "df = pd.read_csv(r'C:\\Users\\bkears1\\MOCK_DATA3.csv')\n",
    "data = df.Production4"
   ]
  },
  {
   "cell_type": "code",
   "execution_count": 7,
   "metadata": {},
   "outputs": [
    {
     "data": {
      "text/plain": [
       "0      535\n",
       "1      571\n",
       "2      538\n",
       "3      474\n",
       "4      470\n",
       "5      531\n",
       "6      473\n",
       "7      513\n",
       "8      507\n",
       "9      495\n",
       "10     475\n",
       "11     490\n",
       "12     560\n",
       "13     453\n",
       "14     485\n",
       "15     552\n",
       "16     529\n",
       "17     501\n",
       "18     516\n",
       "19     499\n",
       "20     536\n",
       "21     481\n",
       "22     525\n",
       "23     492\n",
       "24     501\n",
       "25     497\n",
       "26     507\n",
       "27     478\n",
       "28     514\n",
       "29     508\n",
       "      ... \n",
       "970    438\n",
       "971    577\n",
       "972    474\n",
       "973    459\n",
       "974    477\n",
       "975    502\n",
       "976    533\n",
       "977    534\n",
       "978    490\n",
       "979    503\n",
       "980    460\n",
       "981    496\n",
       "982    521\n",
       "983    505\n",
       "984    514\n",
       "985    491\n",
       "986    540\n",
       "987    538\n",
       "988    557\n",
       "989    535\n",
       "990    501\n",
       "991    457\n",
       "992    482\n",
       "993    542\n",
       "994    483\n",
       "995    459\n",
       "996    515\n",
       "997    449\n",
       "998    492\n",
       "999    488\n",
       "Name: Production4, Length: 1000, dtype: int64"
      ]
     },
     "execution_count": 7,
     "metadata": {},
     "output_type": "execute_result"
    }
   ],
   "source": [
    "data"
   ]
  },
  {
   "cell_type": "code",
   "execution_count": 8,
   "metadata": {},
   "outputs": [],
   "source": [
    "data_ave = np.average(data)"
   ]
  },
  {
   "cell_type": "code",
   "execution_count": 9,
   "metadata": {},
   "outputs": [
    {
     "name": "stdout",
     "output_type": "stream",
     "text": [
      "502.041\n"
     ]
    }
   ],
   "source": [
    "print(data_ave)"
   ]
  },
  {
   "cell_type": "code",
   "execution_count": 10,
   "metadata": {},
   "outputs": [
    {
     "name": "stdout",
     "output_type": "stream",
     "text": [
      "909.0003193193203\n"
     ]
    }
   ],
   "source": [
    "s_2 = np.var(data, ddof = 1)\n",
    "print(s_2)"
   ]
  },
  {
   "cell_type": "code",
   "execution_count": 11,
   "metadata": {},
   "outputs": [
    {
     "name": "stdout",
     "output_type": "stream",
     "text": [
      "30.14963215893886\n"
     ]
    }
   ],
   "source": [
    "s = np.std(data, ddof = 1)\n",
    "print(s)"
   ]
  },
  {
   "cell_type": "code",
   "execution_count": 12,
   "metadata": {},
   "outputs": [
    {
     "name": "stdout",
     "output_type": "stream",
     "text": [
      "502.0\n"
     ]
    }
   ],
   "source": [
    "median = np.median(data)\n",
    "print(median)"
   ]
  },
  {
   "cell_type": "code",
   "execution_count": 13,
   "metadata": {},
   "outputs": [
    {
     "data": {
      "image/png": "[encoded data removed]",
      "text/plain": [
       "<matplotlib.figure.Figure at 0x252ae858908>"
      ]
     },
     "metadata": {},
     "output_type": "display_data"
    }
   ],
   "source": [
    "plt.boxplot(data)\n",
    "plt.annotate('Largest value',[1,np.max(data)])\n",
    "plt.annotate('third',[1,np.percentile(data,75)])\n",
    "plt.annotate('first',[1,np.percentile(data,25)])\n",
    "plt.annotate('median',[1,np.median(data)])\n",
    "plt.annotate('smallest value',[1,np.min(data)])\n",
    "plt.show()"
   ]
  },
  {
   "cell_type": "code",
   "execution_count": 16,
   "metadata": {},
   "outputs": [
    {
     "name": "stdout",
     "output_type": "stream",
     "text": [
      "There are 504.0 different ways that 9 wells can be split into 3 top three producing wells.\n"
     ]
    }
   ],
   "source": [
    "k = 3\n",
    "n =9\n",
    "perms = np.math.factorial(n)/np.math.factorial(n-k)\n",
    "print('There are',perms,'different ways that',n,'wells can be split into',k,'top three producing wells.')"
   ]
  },
  {
   "cell_type": "code",
   "execution_count": 17,
   "metadata": {},
   "outputs": [
    {
     "name": "stdout",
     "output_type": "stream",
     "text": [
      "84.0\n"
     ]
    }
   ],
   "source": [
    "combs = np.math.factorial(n)/(np.math.factorial(k)*np.math.factorial(n-k))\n",
    "print(combs)"
   ]
  },
  {
   "cell_type": "code",
   "execution_count": 21,
   "metadata": {},
   "outputs": [
    {
     "ename": "SyntaxError",
     "evalue": "invalid syntax (<ipython-input-21-ba4cb30bd31f>, line 1)",
     "output_type": "error",
     "traceback": [
      "\u001b[1;36m  File \u001b[1;32m\"<ipython-input-21-ba4cb30bd31f>\"\u001b[1;36m, line \u001b[1;32m1\u001b[0m\n\u001b[1;33m    df = pd.DataFrame({'Well Type':['gas well','oil wells','gas well':[3],'oil wells':[6]]})\u001b[0m\n\u001b[1;37m                                                                     ^\u001b[0m\n\u001b[1;31mSyntaxError\u001b[0m\u001b[1;31m:\u001b[0m invalid syntax\n"
     ]
    }
   ],
   "source": [
    "df = pd.DataFrame({'Well Type':['Gas wells','Oil wells','Total Wells',})\n",
    "df.set_index('Well Type')"
   ]
  },
  {
   "cell_type": "code",
   "execution_count": 22,
   "metadata": {},
   "outputs": [
    {
     "data": {
      "text/plain": [
       "(8.228432234251315, 8.3715677657486864)"
      ]
     },
     "execution_count": 22,
     "metadata": {},
     "output_type": "execute_result"
    }
   ],
   "source": [
    "n = 120\n",
    "X = 8.3\n",
    "sd = 0.4\n",
    "ss.norm.interval(.95, loc=X,scale=sd/np.sqrt(n))"
   ]
  },
  {
   "cell_type": "code",
   "execution_count": 23,
   "metadata": {},
   "outputs": [
    {
     "data": {
      "text/plain": [
       "(8.2059440124108978, 8.3940559875891037)"
      ]
     },
     "execution_count": 23,
     "metadata": {},
     "output_type": "execute_result"
    }
   ],
   "source": [
    "ss.norm.interval(.99, loc=X,scale=sd/np.sqrt(n))"
   ]
  },
  {
   "cell_type": "code",
   "execution_count": 24,
   "metadata": {},
   "outputs": [
    {
     "data": {
      "text/plain": [
       "0.99999999999985789"
      ]
     },
     "execution_count": 24,
     "metadata": {},
     "output_type": "execute_result"
    }
   ],
   "source": [
    "ci = 8.57\n",
    "z_sig = ci - X\n",
    "z = z_sig*np.sqrt(n)/sd\n",
    "1-(1-ss.norm.cdf(z))*2"
   ]
  },
  {
   "cell_type": "code",
   "execution_count": 25,
   "metadata": {},
   "outputs": [
    {
     "name": "stdout",
     "output_type": "stream",
     "text": [
      "126.0\n"
     ]
    }
   ],
   "source": [
    "z_sig = 0.07\n",
    "z = ss.norm.ppf(.975)\n",
    "n = (z*sd/z_sig)**2\n",
    "print(np.ceil(n))\n"
   ]
  },
  {
   "cell_type": "code",
   "execution_count": 26,
   "metadata": {},
   "outputs": [
    {
     "name": "stdout",
     "output_type": "stream",
     "text": [
      "217.0\n"
     ]
    }
   ],
   "source": [
    "z = ss.norm.ppf(.995)\n",
    "n = (z*sd/z_sig)**2\n",
    "print(np.ceil(n))\n"
   ]
  },
  {
   "cell_type": "code",
   "execution_count": 27,
   "metadata": {},
   "outputs": [
    {
     "data": {
      "text/plain": [
       "array([ 0.41700602,  0.63061303])"
      ]
     },
     "execution_count": 27,
     "metadata": {},
     "output_type": "execute_result"
    }
   ],
   "source": [
    "n = 80\n",
    "X = 42\n",
    "\n",
    "def binom_CI(n,X,alpha):\n",
    "    n_hat = n+4\n",
    "    p_hat = (X+2) / n_hat\n",
    "    \n",
    "    z = ss.norm.ppf(1-alpha/2)\n",
    "    \n",
    "    ci = z*np.sqrt(p_hat*(1-p_hat)/n_hat)\n",
    "\n",
    "    return np.array([p_hat-ci, p_hat+ci])\n",
    "\n",
    "\n",
    "alpha = 1 - 0.95\n",
    "binom_CI(n,X,alpha)"
   ]
  },
  {
   "cell_type": "code",
   "execution_count": 29,
   "metadata": {},
   "outputs": [
    {
     "data": {
      "text/plain": [
       "array([ 0.4341772 ,  0.61344185])"
      ]
     },
     "execution_count": 29,
     "metadata": {},
     "output_type": "execute_result"
    }
   ],
   "source": [
    "alpha  = 1 - 0.9\n",
    "binom_CI(n,X,alpha)"
   ]
  },
  {
   "cell_type": "code",
   "execution_count": 30,
   "metadata": {},
   "outputs": [
    {
     "data": {
      "image/png": "[encoded data removed]",
      "text/plain": [
       "<matplotlib.figure.Figure at 0x252aebe4a58>"
      ]
     },
     "metadata": {},
     "output_type": "display_data"
    }
   ],
   "source": [
    "X = np.array([13.1,13.3,12.9,12.8,13.2,13.3])\n",
    "plt.boxplot(X)\n",
    "plt.show()"
   ]
  },
  {
   "cell_type": "code",
   "execution_count": 31,
   "metadata": {},
   "outputs": [
    {
     "data": {
      "text/plain": [
       "(12.879868522974609, 13.32013147702539)"
      ]
     },
     "execution_count": 31,
     "metadata": {},
     "output_type": "execute_result"
    }
   ],
   "source": [
    "n = len(X)\n",
    "mean = np.mean(X)\n",
    "sd = np.std(X)\n",
    "df = n-1\n",
    "alpha = 0.95\n",
    "ss.t.interval(alpha, df, mean, ss.sem(X))"
   ]
  },
  {
   "cell_type": "code",
   "execution_count": null,
   "metadata": {},
   "outputs": [],
   "source": []
  }
 ],
 "metadata": {
  "kernelspec": {
   "display_name": "Python 3",
   "language": "python",
   "name": "python3"
  },
  "language_info": {
   "codemirror_mode": {
    "name": "ipython",
    "version": 3
   },
   "file_extension": ".py",
   "mimetype": "text/x-python",
   "name": "python",
   "nbconvert_exporter": "python",
   "pygments_lexer": "ipython3",
   "version": "3.6.3"
  }
 },
 "nbformat": 4,
 "nbformat_minor": 2
}
